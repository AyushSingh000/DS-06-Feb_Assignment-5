{
 "cells": [
  {
   "cell_type": "code",
   "execution_count": 6,
   "id": "4d4ec0f5-65c8-4f3c-ac51-50b92df395e8",
   "metadata": {},
   "outputs": [
    {
     "name": "stdout",
     "output_type": "stream",
     "text": [
      "[1, 2, 3, 4, 44, 55, 66, True, False, 34, 56, 78, 89, 34, 1, 2, 3, 0, 1, 0, 1, 0, 1, 56, 'data science', 'Machine Learning']\n"
     ]
    }
   ],
   "source": [
    "# Answer 1\n",
    "list1 = [1,2,3,4, [44,55,66, True], False, (34,56,78,89,34), {1,2,3,3,2,1}, {1:34, \"key2\": [55, 67, 78, 89], 4: (45, 22, 61, 34)}, [56, 'data science'], 'Machine Learning']\n",
    "\n",
    "def flat_list(lst):\n",
    "    flate = []\n",
    "    for i in lst:\n",
    "        if type(i) == int or type(i) == str or type(i) == bool:\n",
    "            flate.append(i)\n",
    "        elif type(i) == list or type(i) == set or type(i) == tuple:\n",
    "            for j in i:\n",
    "                flate.append(j)\n",
    "        elif type(i) == dict:\n",
    "            for k in i.items():\n",
    "                flate.append(0)\n",
    "                flate.append(1)\n",
    "    return flate\n",
    "\n",
    "a = flat_list(list1)\n",
    "print(a)"
   ]
  },
  {
   "cell_type": "code",
   "execution_count": 7,
   "id": "e008453f-1cc4-4013-9797-ec352c32bd52",
   "metadata": {},
   "outputs": [
    {
     "data": {
      "text/plain": [
       "'r$dzmg$gl$yvxlnv$z$wzgz$hxrvmgrhg.'"
      ]
     },
     "execution_count": 7,
     "metadata": {},
     "output_type": "execute_result"
    }
   ],
   "source": [
    "# Answer 2\n",
    "def encrypt(x):\n",
    "    encrypted_msg = \"\"  \n",
    "    alphabet = ['a','b','c','d','e','f','g','h','i','j','k','l','m','n','o','p','q','r','s','t','u','v','w','x','y','z']\n",
    "    reverse_alphabet = alphabet[::-1]\n",
    "    for i in x:\n",
    "        if i == ' ':\n",
    "            encrypted_msg += '$'\n",
    "        elif i == \".\" or i == \"!\" or i == \",\" or i == \"?\":\n",
    "            encrypted_msg += i\n",
    "        else:\n",
    "            n = alphabet.index(i.lower())\n",
    "            encrypted_msg += reverse_alphabet[n]\n",
    "    return encrypted_msg\n",
    "            \n",
    "\n",
    "input_sentence = \"I want to become a Data Scientist.\"\n",
    "encrypt(input_sentence)"
   ]
  },
  {
   "cell_type": "code",
   "execution_count": null,
   "id": "03de516c-60ca-4de3-937e-95e32bfbba6b",
   "metadata": {},
   "outputs": [],
   "source": []
  }
 ],
 "metadata": {
  "kernelspec": {
   "display_name": "Python 3 (ipykernel)",
   "language": "python",
   "name": "python3"
  },
  "language_info": {
   "codemirror_mode": {
    "name": "ipython",
    "version": 3
   },
   "file_extension": ".py",
   "mimetype": "text/x-python",
   "name": "python",
   "nbconvert_exporter": "python",
   "pygments_lexer": "ipython3",
   "version": "3.10.8"
  }
 },
 "nbformat": 4,
 "nbformat_minor": 5
}
